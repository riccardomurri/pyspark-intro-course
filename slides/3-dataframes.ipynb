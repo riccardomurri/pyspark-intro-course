{
 "cells": [
  {
   "cell_type": "markdown",
   "metadata": {
    "slideshow": {
     "slide_type": "skip"
    }
   },
   "source": [
    "<a rel=\"license\" href=\"http://creativecommons.org/licenses/by-sa/4.0/\"><img alt=\"Creative Commons License\" style=\"border-width:0\" src=\"https://i.creativecommons.org/l/by-sa/4.0/80x15.png\" /></a><div align=\"center\">This work is licensed under a <a rel=\"license\" href=\"http://creativecommons.org/licenses/by-sa/4.0/\">Creative Commons Attribution-ShareAlike 4.0 International License</a>.</div>"
   ]
  },
  {
   "cell_type": "markdown",
   "metadata": {
    "slideshow": {
     "slide_type": "skip"
    }
   },
   "source": [
    "----"
   ]
  },
  {
   "cell_type": "markdown",
   "metadata": {
    "slideshow": {
     "slide_type": "skip"
    }
   },
   "source": [
    "# Preamble"
   ]
  },
  {
   "cell_type": "markdown",
   "metadata": {
    "slideshow": {
     "slide_type": "skip"
    }
   },
   "source": [
    "Normally, we would need to initialize a [`SparkContext`](https://jaceklaskowski.gitbooks.io/mastering-apache-spark/spark-SparkContext.html#creating-instance) in order to perform initialization.  However, this is automatically done in this IPython installation, so we skip this part. (Only *one* `SparkContext` object can be alive at the same time.)"
   ]
  },
  {
   "cell_type": "code",
   "execution_count": 1,
   "metadata": {
    "slideshow": {
     "slide_type": "skip"
    }
   },
   "outputs": [],
   "source": [
    "#sc = SparkContext(appName=\"Python\")"
   ]
  },
  {
   "cell_type": "markdown",
   "metadata": {
    "slideshow": {
     "slide_type": "skip"
    }
   },
   "source": [
    "Evaluate the following cell to confirm that the PySpark kernel has been started correctly and that a `SparkContext` is already available in variable `sc`:"
   ]
  },
  {
   "cell_type": "code",
   "execution_count": 2,
   "metadata": {
    "slideshow": {
     "slide_type": "skip"
    }
   },
   "outputs": [
    {
     "data": {
      "text/html": [
       "\n",
       "        <div>\n",
       "            <p><b>SparkContext</b></p>\n",
       "\n",
       "            <p><a href=\"http://172.23.111.173:4040\">Spark UI</a></p>\n",
       "\n",
       "            <dl>\n",
       "              <dt>Version</dt>\n",
       "                <dd><code>v2.2.1</code></dd>\n",
       "              <dt>Master</dt>\n",
       "                <dd><code>yarn</code></dd>\n",
       "              <dt>AppName</dt>\n",
       "                <dd><code>pyspark-shell</code></dd>\n",
       "            </dl>\n",
       "        </div>\n",
       "        "
      ],
      "text/plain": [
       "<SparkContext master=yarn appName=pyspark-shell>"
      ]
     },
     "execution_count": 2,
     "metadata": {},
     "output_type": "execute_result"
    }
   ],
   "source": [
    "sc"
   ]
  },
  {
   "cell_type": "markdown",
   "metadata": {
    "slideshow": {
     "slide_type": "skip"
    }
   },
   "source": [
    "----"
   ]
  },
  {
   "cell_type": "markdown",
   "metadata": {
    "slideshow": {
     "slide_type": "slide"
    }
   },
   "source": [
    "# What is the DataFrame API?"
   ]
  },
  {
   "cell_type": "markdown",
   "metadata": {},
   "source": [
    "A new API for computing with structured data\n",
    "(if it’s a table, it fits).\n",
    "\n",
    "* Data in a DataFrame follows a specified “schema” (what type of data is in each column)\n",
    "* Can give some nice performance improvements:\n",
    "  - Spark can optimize the execution because it knows more about the data layout\n",
    "  - most of the work can take place in the JVM without need to ship back and forth to Python\n",
    "* Load and save data in a variety of formats, e.g. JSON, Parquet, SQL."
   ]
  },
  {
   "cell_type": "markdown",
   "metadata": {
    "slideshow": {
     "slide_type": "slide"
    }
   },
   "source": [
    "# Creating DataFrames\n",
    "\n",
    "The entry point for the DataFrame API is called a [`SparkSession`](https://spark.apache.org/docs/2.2.1/api/python/pyspark.sql.html#pyspark.sql.SparkSession).\n",
    "\n",
    "A `SparkSession` must be created from an active `SparkContext`:\n",
    "\n",
    "```\n",
    "# ‘sc‘ is the SparkContext\n",
    "from pyspark.sql import SparkSession\n",
    "spark = SparkSession(sc)\n",
    "```"
   ]
  },
  {
   "cell_type": "markdown",
   "metadata": {
    "slideshow": {
     "slide_type": "slide"
    }
   },
   "source": [
    "## Loading data"
   ]
  },
  {
   "cell_type": "markdown",
   "metadata": {
    "slideshow": {
     "slide_type": "notes"
    }
   },
   "source": [
    "We are going to use public data from the [Wordbank project](http://wordbank.stanford.edu/) for examples in this notebook."
   ]
  },
  {
   "cell_type": "markdown",
   "metadata": {},
   "source": [
    "We can use PySpark's `spark.read.csv()` function to read a CSV file into a DataFrame: "
   ]
  },
  {
   "cell_type": "code",
   "execution_count": 3,
   "metadata": {},
   "outputs": [],
   "source": [
    "df = spark.read.csv(\"hdfs:///wordbank.csv.gz\")"
   ]
  },
  {
   "cell_type": "markdown",
   "metadata": {
    "slideshow": {
     "slide_type": "slide"
    }
   },
   "source": [
    "Method `.show()` on the DataFrame can be used to show the first few rows (by default 20):"
   ]
  },
  {
   "cell_type": "code",
   "execution_count": 4,
   "metadata": {},
   "outputs": [
    {
     "name": "stdout",
     "output_type": "stream",
     "text": [
      "+----+-------+-----------+---+--------+------+-----------+---------+--------+---------+\n",
      "| _c0|    _c1|        _c2|_c3|     _c4|   _c5|        _c6|      _c7|     _c8|      _c9|\n",
      "+----+-------+-----------+---+--------+------+-----------+---------+--------+---------+\n",
      "|null|data_id|num_item_id|age|language|   sex|birth_order|ethnicity|produces|     word|\n",
      "|   0|  51699|         13| 27| English|Female|     Fourth| Hispanic|   False|alligator|\n",
      "|   1|  51699|         14| 27| English|Female|     Fourth| Hispanic|    True|   animal|\n",
      "|   2|  51699|         15| 27| English|Female|     Fourth| Hispanic|   False|      ant|\n",
      "|   3|  51699|         16| 27| English|Female|     Fourth| Hispanic|    True|     bear|\n",
      "|   4|  51699|         17| 27| English|Female|     Fourth| Hispanic|   False|      bee|\n",
      "|   5|  51699|         18| 27| English|Female|     Fourth| Hispanic|    True|     bird|\n",
      "|   6|  51699|         19| 27| English|Female|     Fourth| Hispanic|    True|      bug|\n",
      "|   7|  51699|         20| 27| English|Female|     Fourth| Hispanic|    True|    bunny|\n",
      "|   8|  51699|         21| 27| English|Female|     Fourth| Hispanic|   False|butterfly|\n",
      "+----+-------+-----------+---+--------+------+-----------+---------+--------+---------+\n",
      "only showing top 10 rows\n",
      "\n"
     ]
    }
   ],
   "source": [
    "df.show(10)"
   ]
  },
  {
   "cell_type": "markdown",
   "metadata": {
    "slideshow": {
     "slide_type": "slide"
    }
   },
   "source": [
    "Other methods for reading data into a Spark DataFrame are:\n",
    "\n",
    "* [`spark.read.json()`](https://spark.apache.org/docs/2.2.1/api/python/pyspark.sql.html#pyspark.sql.DataFrameReader.json): read data from a [JSON](https://www.json.org/) file\n",
    "* [`spark.read.jdbc()`](https://spark.apache.org/docs/2.2.1/api/python/pyspark.sql.html#pyspark.sql.DataFrameReader.jdbc): read data from an SQL database\n",
    "* [`spark.read.parquet()`](https://spark.apache.org/docs/2.2.1/api/python/pyspark.sql.html#pyspark.sql.DataFrameReader.parquet): read data from a [Parquet](https://parquet.apache.org/)-format directory\n",
    "* [`spark.read.text()`](https://spark.apache.org/docs/2.2.1/api/python/pyspark.sql.html#pyspark.sql.DataFrameReader.text): read a text file; the resulting DataFrame has a single column `value`, and a row for each line of the input text.\n",
    "\n",
    "All the above methods (except `read.jdbc`) accept a `hdfs://`, `file://` or any other URI format accepted by Spark, and can automatically decompress files."
   ]
  },
  {
   "cell_type": "markdown",
   "metadata": {
    "slideshow": {
     "slide_type": "slide"
    }
   },
   "source": [
    "Like in SQL, a DataFrame schema is a mapping *columns → column value type*.\n",
    "\n",
    "Unlike SQL, Spark’s DataFrame objects allow composite columns (i.e., columns whose value is a list or tuple), so a the schema is a hierachical / tree-like structure."
   ]
  },
  {
   "cell_type": "markdown",
   "metadata": {
    "slideshow": {
     "slide_type": "slide"
    }
   },
   "source": [
    "Use the ‘.printSchema()’ method of a DataFrame\n",
    "object to print a human-readable representation of its\n",
    "schema."
   ]
  },
  {
   "cell_type": "code",
   "execution_count": 5,
   "metadata": {},
   "outputs": [
    {
     "name": "stdout",
     "output_type": "stream",
     "text": [
      "root\n",
      " |-- _c0: string (nullable = true)\n",
      " |-- _c1: string (nullable = true)\n",
      " |-- _c2: string (nullable = true)\n",
      " |-- _c3: string (nullable = true)\n",
      " |-- _c4: string (nullable = true)\n",
      " |-- _c5: string (nullable = true)\n",
      " |-- _c6: string (nullable = true)\n",
      " |-- _c7: string (nullable = true)\n",
      " |-- _c8: string (nullable = true)\n",
      " |-- _c9: string (nullable = true)\n",
      "\n"
     ]
    }
   ],
   "source": [
    "df.printSchema()"
   ]
  },
  {
   "cell_type": "markdown",
   "metadata": {
    "slideshow": {
     "slide_type": "skip"
    }
   },
   "source": [
    "----"
   ]
  },
  {
   "cell_type": "markdown",
   "metadata": {
    "slideshow": {
     "slide_type": "slide"
    }
   },
   "source": [
    "## Exercise 3.A\n",
    "\n",
    "Read the documentation for the [`spark.read.csv`]() function and find out how to modify the above function call so that: *(1)* column names are taken from the first row (header) of the file; *(2)* column types are inferred from the data type."
   ]
  },
  {
   "cell_type": "code",
   "execution_count": 9,
   "metadata": {
    "slideshow": {
     "slide_type": "skip"
    }
   },
   "outputs": [],
   "source": [
    "df = spark.read.csv(\"hdfs:///wordbank.csv.gz\", header=True, inferSchema=True)"
   ]
  },
  {
   "cell_type": "markdown",
   "metadata": {
    "slideshow": {
     "slide_type": "skip"
    }
   },
   "source": [
    "If your way of reading data was right, evaluating the following cells should present a table with columnes `_c0`, `data_id`, `num_item_id`, `age`, ..., `produces`, `word`, of which the `_c0`, `data_id`, and `num_item_id` are integers, `produces` is boolean, and the rest are string-valued:"
   ]
  },
  {
   "cell_type": "code",
   "execution_count": 10,
   "metadata": {
    "slideshow": {
     "slide_type": "skip"
    }
   },
   "outputs": [
    {
     "name": "stdout",
     "output_type": "stream",
     "text": [
      "+---+-------+-----------+---+--------+------+-----------+---------+--------+---------+\n",
      "|_c0|data_id|num_item_id|age|language|   sex|birth_order|ethnicity|produces|     word|\n",
      "+---+-------+-----------+---+--------+------+-----------+---------+--------+---------+\n",
      "|  0|  51699|         13| 27| English|Female|     Fourth| Hispanic|   false|alligator|\n",
      "|  1|  51699|         14| 27| English|Female|     Fourth| Hispanic|    true|   animal|\n",
      "|  2|  51699|         15| 27| English|Female|     Fourth| Hispanic|   false|      ant|\n",
      "|  3|  51699|         16| 27| English|Female|     Fourth| Hispanic|    true|     bear|\n",
      "|  4|  51699|         17| 27| English|Female|     Fourth| Hispanic|   false|      bee|\n",
      "+---+-------+-----------+---+--------+------+-----------+---------+--------+---------+\n",
      "only showing top 5 rows\n",
      "\n"
     ]
    }
   ],
   "source": [
    "# look for headers and first values\n",
    "df.show(5)"
   ]
  },
  {
   "cell_type": "code",
   "execution_count": 11,
   "metadata": {
    "slideshow": {
     "slide_type": "skip"
    }
   },
   "outputs": [
    {
     "name": "stdout",
     "output_type": "stream",
     "text": [
      "root\n",
      " |-- _c0: integer (nullable = true)\n",
      " |-- data_id: integer (nullable = true)\n",
      " |-- num_item_id: integer (nullable = true)\n",
      " |-- age: integer (nullable = true)\n",
      " |-- language: string (nullable = true)\n",
      " |-- sex: string (nullable = true)\n",
      " |-- birth_order: string (nullable = true)\n",
      " |-- ethnicity: string (nullable = true)\n",
      " |-- produces: boolean (nullable = true)\n",
      " |-- word: string (nullable = true)\n",
      "\n"
     ]
    }
   ],
   "source": [
    "df.printSchema()"
   ]
  },
  {
   "cell_type": "markdown",
   "metadata": {
    "slideshow": {
     "slide_type": "skip"
    }
   },
   "source": [
    "----"
   ]
  },
  {
   "cell_type": "markdown",
   "metadata": {
    "slideshow": {
     "slide_type": "slide"
    }
   },
   "source": [
    "DataFrame objects can be created from an RDD of tuple/list/dict, Python list of the same, or pandas.DataFrame.\n",
    "\n",
    "Unless using dict or pandas.DataFrame items, column names must be given:"
   ]
  },
  {
   "cell_type": "code",
   "execution_count": 12,
   "metadata": {},
   "outputs": [
    {
     "name": "stdout",
     "output_type": "stream",
     "text": [
      "+-----+---+\n",
      "| name| id|\n",
      "+-----+---+\n",
      "|Alice|  1|\n",
      "|  Bob|  2|\n",
      "+-----+---+\n",
      "\n"
     ]
    }
   ],
   "source": [
    "ppl = spark.createDataFrame(\n",
    "  [('Alice', 1), ('Bob', 2)],\n",
    "  schema=['name', 'id'])\n",
    "\n",
    "ppl.show()"
   ]
  },
  {
   "cell_type": "markdown",
   "metadata": {
    "slideshow": {
     "slide_type": "slide"
    }
   },
   "source": [
    "A more realistic example:"
   ]
  },
  {
   "cell_type": "code",
   "execution_count": 13,
   "metadata": {},
   "outputs": [
    {
     "name": "stdout",
     "output_type": "stream",
     "text": [
      "+-------------------+-------------------+------------------+\n",
      "|                  x|                sin|               cos|\n",
      "+-------------------+-------------------+------------------+\n",
      "|                0.0|                0.0|               1.0|\n",
      "|                0.1|0.09983341664682815|0.9950041652780258|\n",
      "|                0.2|0.19866933079506122|0.9800665778412416|\n",
      "|0.30000000000000004| 0.2955202066613396| 0.955336489125606|\n",
      "|                0.4| 0.3894183423086505|0.9210609940028851|\n",
      "+-------------------+-------------------+------------------+\n",
      "only showing top 5 rows\n",
      "\n"
     ]
    }
   ],
   "source": [
    "# 1. create arrays of values\n",
    "import math\n",
    "xs = [(0.0 + 0.1*i) for i in range(20)]\n",
    "cos_x = [math.cos(x) for x in xs]\n",
    "sin_x = [math.sin(x) for x in xs]\n",
    "\n",
    "# 2. create DataFrame with the given columns\n",
    "trig = spark.createDataFrame(zip(xs, sin_x, cos_x), \n",
    "                             schema=['x', 'sin', 'cos'])\n",
    "\n",
    "# 3. show a few sample columns\n",
    "trig.show(5)"
   ]
  },
  {
   "cell_type": "markdown",
   "metadata": {
    "slideshow": {
     "slide_type": "slide"
    }
   },
   "source": [
    "### To and From PanDas DataFrames\n",
    "\n",
    "[PanDas](http://pandas.pydata.org) provides the \"standard\" DataFrame implementation for Python.  PySpark can create DataFrames from PanDas ones (with `createDataFrame`).  Note that column names and types are automatically taken from PanDas."
   ]
  },
  {
   "cell_type": "code",
   "execution_count": 6,
   "metadata": {},
   "outputs": [],
   "source": [
    "import pandas as pd\n",
    "\n",
    "xs = range(20)\n",
    "ys = [x*x for x in xs]\n",
    "pandas_df = pd.DataFrame({'x': xs, 'y': ys})\n",
    "\n",
    "spark_df = spark.createDataFrame(pandas_df)"
   ]
  },
  {
   "cell_type": "code",
   "execution_count": 7,
   "metadata": {},
   "outputs": [
    {
     "name": "stdout",
     "output_type": "stream",
     "text": [
      "+---+---+\n",
      "|  x|  y|\n",
      "+---+---+\n",
      "|  0|  0|\n",
      "|  1|  1|\n",
      "|  2|  4|\n",
      "+---+---+\n",
      "only showing top 3 rows\n",
      "\n"
     ]
    }
   ],
   "source": [
    "spark_df.show(3)"
   ]
  },
  {
   "cell_type": "markdown",
   "metadata": {
    "slideshow": {
     "slide_type": "slide"
    }
   },
   "source": [
    "You can convert a Spark DataFrame to a PanDas DF by using method `.toPandas()`:"
   ]
  },
  {
   "cell_type": "code",
   "execution_count": 8,
   "metadata": {},
   "outputs": [
    {
     "data": {
      "text/html": [
       "<div>\n",
       "<style scoped>\n",
       "    .dataframe tbody tr th:only-of-type {\n",
       "        vertical-align: middle;\n",
       "    }\n",
       "\n",
       "    .dataframe tbody tr th {\n",
       "        vertical-align: top;\n",
       "    }\n",
       "\n",
       "    .dataframe thead th {\n",
       "        text-align: right;\n",
       "    }\n",
       "</style>\n",
       "<table border=\"1\" class=\"dataframe\">\n",
       "  <thead>\n",
       "    <tr style=\"text-align: right;\">\n",
       "      <th></th>\n",
       "      <th>x</th>\n",
       "      <th>y</th>\n",
       "    </tr>\n",
       "  </thead>\n",
       "  <tbody>\n",
       "    <tr>\n",
       "      <th>0</th>\n",
       "      <td>0</td>\n",
       "      <td>0</td>\n",
       "    </tr>\n",
       "    <tr>\n",
       "      <th>1</th>\n",
       "      <td>1</td>\n",
       "      <td>1</td>\n",
       "    </tr>\n",
       "    <tr>\n",
       "      <th>2</th>\n",
       "      <td>2</td>\n",
       "      <td>4</td>\n",
       "    </tr>\n",
       "    <tr>\n",
       "      <th>3</th>\n",
       "      <td>3</td>\n",
       "      <td>9</td>\n",
       "    </tr>\n",
       "    <tr>\n",
       "      <th>4</th>\n",
       "      <td>4</td>\n",
       "      <td>16</td>\n",
       "    </tr>\n",
       "  </tbody>\n",
       "</table>\n",
       "</div>"
      ],
      "text/plain": [
       "   x   y\n",
       "0  0   0\n",
       "1  1   1\n",
       "2  2   4\n",
       "3  3   9\n",
       "4  4  16"
      ]
     },
     "execution_count": 8,
     "metadata": {},
     "output_type": "execute_result"
    }
   ],
   "source": [
    "spark_df.toPandas().head()"
   ]
  },
  {
   "cell_type": "markdown",
   "metadata": {
    "slideshow": {
     "slide_type": "slide"
    }
   },
   "source": [
    "### To and From RDDs\n",
    "\n",
    "RDDs can be converted into Spark DataFrames; this operation requires specifying types:"
   ]
  },
  {
   "cell_type": "code",
   "execution_count": 2,
   "metadata": {},
   "outputs": [],
   "source": [
    "rdd = sc.parallelize([('Alice', 1), ('Bob', 2)])\n",
    "\n",
    "from pyspark.sql.types import StructType, StructField, StringType, IntegerType\n",
    "spark_df = spark.createDataFrame(rdd, schema=StructType([\n",
    "    StructField('name', StringType()),\n",
    "    StructField('id', IntegerType())\n",
    "]))"
   ]
  },
  {
   "cell_type": "code",
   "execution_count": 3,
   "metadata": {},
   "outputs": [
    {
     "name": "stdout",
     "output_type": "stream",
     "text": [
      "+-----+---+\n",
      "| name| id|\n",
      "+-----+---+\n",
      "|Alice|  1|\n",
      "|  Bob|  2|\n",
      "+-----+---+\n",
      "\n"
     ]
    }
   ],
   "source": [
    "spark_df.show()"
   ]
  },
  {
   "cell_type": "markdown",
   "metadata": {
    "slideshow": {
     "slide_type": "slide"
    }
   },
   "source": [
    "There are a few rules to follow here:\n",
    "\n",
    "* `schema=...` is always an instance of `StructType()`\n",
    "* `StructType(...)` contains a *list* of `StructField`*(name, dtype)*\n",
    "* *dtype* is an *instance* of any of the type designators in module [`pyspark.sql.types`](https://spark.apache.org/docs/2.2.1/api/python/pyspark.sql.html#module-pyspark.sql.types)"
   ]
  },
  {
   "cell_type": "markdown",
   "metadata": {
    "slideshow": {
     "slide_type": "slide"
    }
   },
   "source": [
    "You can grab the RDD underlying *any* DataFrame using the `.rdd` attribute:"
   ]
  },
  {
   "cell_type": "code",
   "execution_count": 4,
   "metadata": {},
   "outputs": [
    {
     "data": {
      "text/plain": [
       "MapPartitionsRDD[10] at javaToPython at NativeMethodAccessorImpl.java:0"
      ]
     },
     "execution_count": 4,
     "metadata": {},
     "output_type": "execute_result"
    }
   ],
   "source": [
    "spark_df.rdd"
   ]
  },
  {
   "cell_type": "markdown",
   "metadata": {
    "slideshow": {
     "slide_type": "skip"
    }
   },
   "source": [
    "----"
   ]
  },
  {
   "cell_type": "markdown",
   "metadata": {},
   "source": [
    "## Exercise 3.B\n",
    "\n",
    "Modify the \"word count\" code of *Exercise 2.D* to return the word counts as a DataFrame instead of an RDD."
   ]
  },
  {
   "cell_type": "code",
   "execution_count": null,
   "metadata": {
    "slideshow": {
     "slide_type": "skip"
    }
   },
   "outputs": [],
   "source": [
    "# assuming we have a `wordcount()` function already defined\n",
    "\n",
    "def wordcount2(source):\n",
    "    from pyspark.sql.types import StructType, StructField, StringType, IntegerType\n",
    "    rdd = wordcount(source)\n",
    "    df = spark.createDataFrame(rdd, schema=StructType([\n",
    "        StructField('word', StringType()),\n",
    "        StructField('count', IntegerType()),\n",
    "    ]))\n",
    "    return df"
   ]
  },
  {
   "cell_type": "markdown",
   "metadata": {
    "slideshow": {
     "slide_type": "skip"
    }
   },
   "source": [
    "----"
   ]
  },
  {
   "cell_type": "markdown",
   "metadata": {
    "slideshow": {
     "slide_type": "slide"
    }
   },
   "source": [
    "# Table manipulations\n",
    "\n",
    "As with RDDs, Spark DataFrames are **immutable**.\n",
    "\n",
    "So, all transformations of an RDD return a *new* RDD and leave the original one unmodified.\n",
    "\n",
    "(Hence, for example, removing a column does not really remove a column: it just returns a view on the original DF with one column omitted.)"
   ]
  },
  {
   "cell_type": "markdown",
   "metadata": {
    "slideshow": {
     "slide_type": "slide"
    }
   },
   "source": [
    "## Removing columns\n",
    "\n",
    "In order to do some data cleaning (and save memory), we drop the columns that are not used in the forthcoming analysis. A column may be deleted from the `DataFrame` with the method `.drop()`.\n",
    "\n",
    "Columns may be removed by giving column names as strings:\n",
    "\n",
    "    df2 = df.drop('_c0', 'num_item_id')\n",
    "    \n",
    "or as [`Column`](https://spark.apache.org/docs/2.2.1/api/python/pyspark.sql.html#pyspark.sql.Column) objects:\n",
    "\n",
    "    df2 = df.drop(df._c0)"
   ]
  },
  {
   "cell_type": "code",
   "execution_count": 14,
   "metadata": {
    "slideshow": {
     "slide_type": "slide"
    }
   },
   "outputs": [
    {
     "name": "stdout",
     "output_type": "stream",
     "text": [
      "+-------+-----------+---+--------+------+-----------+---------+--------+---------+\n",
      "|data_id|num_item_id|age|language|   sex|birth_order|ethnicity|produces|     word|\n",
      "+-------+-----------+---+--------+------+-----------+---------+--------+---------+\n",
      "|  51699|         13| 27| English|Female|     Fourth| Hispanic|   false|alligator|\n",
      "|  51699|         14| 27| English|Female|     Fourth| Hispanic|    true|   animal|\n",
      "|  51699|         15| 27| English|Female|     Fourth| Hispanic|   false|      ant|\n",
      "|  51699|         16| 27| English|Female|     Fourth| Hispanic|    true|     bear|\n",
      "+-------+-----------+---+--------+------+-----------+---------+--------+---------+\n",
      "only showing top 4 rows\n",
      "\n"
     ]
    }
   ],
   "source": [
    "df2 = df.drop('_c0')\n",
    "\n",
    "df2.show(4)"
   ]
  },
  {
   "cell_type": "markdown",
   "metadata": {
    "slideshow": {
     "slide_type": "slide"
    }
   },
   "source": [
    "## Replacing values in columns\n",
    "\n",
    "Method `.replace()` accept a Python dictionary mapping values that should be replaced with their replacements (**note:** \n",
    "they should have the same type!):"
   ]
  },
  {
   "cell_type": "code",
   "execution_count": 15,
   "metadata": {},
   "outputs": [
    {
     "name": "stdout",
     "output_type": "stream",
     "text": [
      "+-------+-----------+---+--------+---+-----------+---------+--------+---------+\n",
      "|data_id|num_item_id|age|language|sex|birth_order|ethnicity|produces|     word|\n",
      "+-------+-----------+---+--------+---+-----------+---------+--------+---------+\n",
      "|  51699|         13| 27| English|  1|     Fourth| Hispanic|   false|alligator|\n",
      "|  51699|         14| 27| English|  1|     Fourth| Hispanic|    true|   animal|\n",
      "|  51699|         15| 27| English|  1|     Fourth| Hispanic|   false|      ant|\n",
      "+-------+-----------+---+--------+---+-----------+---------+--------+---------+\n",
      "only showing top 3 rows\n",
      "\n"
     ]
    }
   ],
   "source": [
    "df2.replace({'Male':'0', 'Female':'1'}).show(3)"
   ]
  },
  {
   "cell_type": "markdown",
   "metadata": {
    "slideshow": {
     "slide_type": "slide"
    }
   },
   "source": [
    "You can restrict replacement to a subset of the columns with an additional `subset=...` argument:\n",
    "```\n",
    "df3 = df2.replace({'Male':'0', 'Female':'1'}, subset=['sex'])\n",
    "```\n",
    "\n",
    "If there is only one value to replace, a shortcut form is allowed:\n",
    "```\n",
    "df3 = df2.replace('English', 'en', subset=['language'])\n",
    "```"
   ]
  },
  {
   "cell_type": "markdown",
   "metadata": {
    "slideshow": {
     "slide_type": "slide"
    }
   },
   "source": [
    "## Selecting a subset of the columns (projection)"
   ]
  },
  {
   "cell_type": "markdown",
   "metadata": {},
   "source": [
    "A subset of the columns may be chosen using the `.select()` method:"
   ]
  },
  {
   "cell_type": "code",
   "execution_count": 16,
   "metadata": {},
   "outputs": [
    {
     "name": "stdout",
     "output_type": "stream",
     "text": [
      "+---+--------+------+\n",
      "|age|language|   sex|\n",
      "+---+--------+------+\n",
      "| 27| English|Female|\n",
      "| 27| English|Female|\n",
      "| 27| English|Female|\n",
      "| 27| English|Female|\n",
      "| 27| English|Female|\n",
      "+---+--------+------+\n",
      "only showing top 5 rows\n",
      "\n"
     ]
    }
   ],
   "source": [
    "df2 = df.select(['age', 'language', 'sex'])\n",
    "\n",
    "df2.show(5)"
   ]
  },
  {
   "cell_type": "markdown",
   "metadata": {
    "slideshow": {
     "slide_type": "slide"
    }
   },
   "source": [
    "It looks as if we've picked constant columns? A `Column`'s `.describe()` method returns a new DF with a quick statistical summary of the data:"
   ]
  },
  {
   "cell_type": "code",
   "execution_count": 17,
   "metadata": {
    "scrolled": true
   },
   "outputs": [
    {
     "name": "stdout",
     "output_type": "stream",
     "text": [
      "+-------+-----------------+\n",
      "|summary|              age|\n",
      "+-------+-----------------+\n",
      "|  count|           234350|\n",
      "|   mean|22.34275229357798|\n",
      "| stddev|4.731628099530239|\n",
      "|    min|               16|\n",
      "|    max|               30|\n",
      "+-------+-----------------+\n",
      "\n"
     ]
    }
   ],
   "source": [
    "df2.describe('age').show()"
   ]
  },
  {
   "cell_type": "markdown",
   "metadata": {
    "slideshow": {
     "slide_type": "slide"
    }
   },
   "source": [
    "Note that Spark will happily compute descriptive statistics for non-numeric columns as well!"
   ]
  },
  {
   "cell_type": "code",
   "execution_count": 18,
   "metadata": {},
   "outputs": [
    {
     "name": "stdout",
     "output_type": "stream",
     "text": [
      "+-------+--------+\n",
      "|summary|language|\n",
      "+-------+--------+\n",
      "|  count|  234350|\n",
      "|   mean|    null|\n",
      "| stddev|    null|\n",
      "|    min| English|\n",
      "|    max| English|\n",
      "+-------+--------+\n",
      "\n"
     ]
    }
   ],
   "source": [
    "df2.describe('language').show()"
   ]
  },
  {
   "cell_type": "markdown",
   "metadata": {
    "slideshow": {
     "slide_type": "slide"
    }
   },
   "source": [
    "## Other transformations\n",
    "\n",
    "All these methods return a new DF:\n",
    "\n",
    "* `distinct(cols)`:  all unique rows of the source DF\n",
    "* `dropDuplicates(cols)`: return new DF where all in the named columns are distinct; if no columns are given, default to all columns in the source DF.\n",
    "* `orderBy(col)`: new DF sorted according to the given column expression"
   ]
  },
  {
   "cell_type": "markdown",
   "metadata": {
    "slideshow": {
     "slide_type": "slide"
    }
   },
   "source": [
    "## Column expressions\n",
    "\n",
    "The syntax *df.column* (e.g., `df2.age`) can be used to write logical, string, or arithmetic expressions involving column values.\n",
    "\n",
    "Examples:\n",
    "\n",
    "* `df.sex == 'Male'`\n",
    "* `df.age * 12`\n",
    "\n",
    "Such expressions expand to a new value for every row when used in `.select()` or `.where()`/`.filter()`.\n",
    "\n",
    "A column expression may be suffixed with `.alias('name')` to give it a name in the resulting DF."
   ]
  },
  {
   "cell_type": "markdown",
   "metadata": {
    "slideshow": {
     "slide_type": "slide"
    }
   },
   "source": [
    "Create new DF with boolean column for age less/greater than 2 yrs:"
   ]
  },
  {
   "cell_type": "code",
   "execution_count": 19,
   "metadata": {},
   "outputs": [
    {
     "name": "stdout",
     "output_type": "stream",
     "text": [
      "+--------+------+----------+\n",
      "|language|   sex|(age > 24)|\n",
      "+--------+------+----------+\n",
      "| English|Female|      true|\n",
      "| English|Female|      true|\n",
      "| English|Female|      true|\n",
      "+--------+------+----------+\n",
      "only showing top 3 rows\n",
      "\n"
     ]
    }
   ],
   "source": [
    "df3 = df2.select(df.language, 'sex', df.age > 24)\n",
    "\n",
    "df3.show(3)"
   ]
  },
  {
   "cell_type": "markdown",
   "metadata": {
    "slideshow": {
     "slide_type": "slide"
    }
   },
   "source": [
    "Create new DF with an additional column giving age in years:"
   ]
  },
  {
   "cell_type": "code",
   "execution_count": 20,
   "metadata": {},
   "outputs": [
    {
     "name": "stdout",
     "output_type": "stream",
     "text": [
      "+--------+------+-------+\n",
      "|language|   sex|age_yrs|\n",
      "+--------+------+-------+\n",
      "| English|Female|      2|\n",
      "| English|Female|      2|\n",
      "| English|Female|      2|\n",
      "+--------+------+-------+\n",
      "only showing top 3 rows\n",
      "\n"
     ]
    }
   ],
   "source": [
    "df4 = df2.select('language', 'sex', (df.age / 12).cast('integer').alias('age_yrs'))\n",
    "\n",
    "df4.show(3)"
   ]
  },
  {
   "cell_type": "markdown",
   "metadata": {
    "slideshow": {
     "slide_type": "slide"
    }
   },
   "source": [
    "## Selection by rows\n",
    "\n",
    "Boolean column expressions can be used with `.filter()` (also known as `.where()`) to create a new DF having only rows that match a predicate:"
   ]
  },
  {
   "cell_type": "code",
   "execution_count": 21,
   "metadata": {},
   "outputs": [
    {
     "name": "stdout",
     "output_type": "stream",
     "text": [
      "+---+--------+----+\n",
      "|age|language| sex|\n",
      "+---+--------+----+\n",
      "| 27| English|Male|\n",
      "| 27| English|Male|\n",
      "| 27| English|Male|\n",
      "+---+--------+----+\n",
      "only showing top 3 rows\n",
      "\n"
     ]
    }
   ],
   "source": [
    "df5 = df2.where(df.sex=='Male')\n",
    "\n",
    "df5.show(3)"
   ]
  },
  {
   "cell_type": "markdown",
   "metadata": {
    "slideshow": {
     "slide_type": "skip"
    }
   },
   "source": [
    "----"
   ]
  },
  {
   "cell_type": "markdown",
   "metadata": {
    "slideshow": {
     "slide_type": "skip"
    }
   },
   "source": [
    "## Exercise 3.C\n",
    "\n",
    "Count the number of rows where column `'sex'` has the value `'Male'` and the count of rows where column `sex` has value `'Female'`.  Does this equal the total number of rows in the dataset?  If not, what other values for `sex` are there?"
   ]
  },
  {
   "cell_type": "code",
   "execution_count": 22,
   "metadata": {
    "slideshow": {
     "slide_type": "skip"
    }
   },
   "outputs": [
    {
     "data": {
      "text/plain": [
       "89053"
      ]
     },
     "execution_count": 22,
     "metadata": {},
     "output_type": "execute_result"
    }
   ],
   "source": [
    "df.where(df.sex == 'Male').count()"
   ]
  },
  {
   "cell_type": "code",
   "execution_count": 23,
   "metadata": {
    "slideshow": {
     "slide_type": "skip"
    }
   },
   "outputs": [
    {
     "data": {
      "text/plain": [
       "83979"
      ]
     },
     "execution_count": 23,
     "metadata": {},
     "output_type": "execute_result"
    }
   ],
   "source": [
    "df.where(df.sex == 'Female').count()"
   ]
  },
  {
   "cell_type": "code",
   "execution_count": 24,
   "metadata": {
    "slideshow": {
     "slide_type": "skip"
    }
   },
   "outputs": [
    {
     "data": {
      "text/plain": [
       "False"
      ]
     },
     "execution_count": 24,
     "metadata": {},
     "output_type": "execute_result"
    }
   ],
   "source": [
    "df.count() == df.where(df.sex == 'Male').count() + df.where(df.sex == 'Female').count()"
   ]
  },
  {
   "cell_type": "code",
   "execution_count": 25,
   "metadata": {
    "slideshow": {
     "slide_type": "skip"
    }
   },
   "outputs": [
    {
     "name": "stdout",
     "output_type": "stream",
     "text": [
      "+------+\n",
      "|   sex|\n",
      "+------+\n",
      "|  null|\n",
      "|Female|\n",
      "|  Male|\n",
      "+------+\n",
      "\n"
     ]
    }
   ],
   "source": [
    "df.select('sex').distinct().show()"
   ]
  },
  {
   "cell_type": "markdown",
   "metadata": {
    "slideshow": {
     "slide_type": "skip"
    }
   },
   "source": [
    "----"
   ]
  },
  {
   "cell_type": "markdown",
   "metadata": {
    "slideshow": {
     "slide_type": "slide"
    }
   },
   "source": [
    "## Null values\n",
    "\n",
    "Columns can take the special value `null`, which is **never equal to any other value** (including itself), and uncomparable with other values (i.e., any relational operator returns `False`)."
   ]
  },
  {
   "cell_type": "markdown",
   "metadata": {
    "slideshow": {
     "slide_type": "slide"
    }
   },
   "source": [
    "There are two ways of dealing with `null` values:\n",
    "\n",
    "1. Use `.isNull()` and `.isNotNull()` to select rows with `null` is a `.where()` clause.\n",
    "2. Use the `.fillna(val)` method to replace any occurrence of `null` with `val`; an optional list of columns where to apply the replacement can follow: \n",
    "\n",
    "```\n",
    "     # only act on columns `c1` and `c2`\n",
    "     df2 = df.fillna(val, ['c1', 'c2'])\n",
    "```"
   ]
  },
  {
   "cell_type": "markdown",
   "metadata": {
    "slideshow": {
     "slide_type": "slide"
    }
   },
   "source": [
    "## Grouping data and aggregate computations"
   ]
  },
  {
   "cell_type": "markdown",
   "metadata": {},
   "source": [
    "Let us tackle the following problem: *compute how many words are uttered by children of a given age.*\n",
    "\n",
    "Since each subject has many table entries (one per uttered word), then we need to:\n",
    "\n",
    "* first, aggregate rows based on subject (`data_id`) **and** age, \n",
    "* then, compute the number of words per subject.  \n",
    "* after, we can further aggregate on age alone and sum."
   ]
  },
  {
   "cell_type": "markdown",
   "metadata": {
    "slideshow": {
     "slide_type": "slide"
    }
   },
   "source": [
    "The [`.groupby()`]( https://spark.apache.org/docs/2.2.1/api/python/pyspark.sql.html#pyspark.sql.Column) method of `DataFrame`'s creates an intermediate object that is *like* a table with aggregate rows:"
   ]
  },
  {
   "cell_type": "code",
   "execution_count": 26,
   "metadata": {},
   "outputs": [],
   "source": [
    "gd = df.groupby(['age', 'data_id'])"
   ]
  },
  {
   "cell_type": "code",
   "execution_count": 27,
   "metadata": {},
   "outputs": [
    {
     "data": {
      "text/plain": [
       "pyspark.sql.group.GroupedData"
      ]
     },
     "execution_count": 27,
     "metadata": {},
     "output_type": "execute_result"
    }
   ],
   "source": [
    "type(gd)"
   ]
  },
  {
   "cell_type": "markdown",
   "metadata": {},
   "source": [
    "**Note:** as usual, one can use arbitrary column expressions, not just column names, in a `.groupBy()` argument list!"
   ]
  },
  {
   "cell_type": "markdown",
   "metadata": {
    "slideshow": {
     "slide_type": "slide"
    }
   },
   "source": [
    "The only methods that we can call on a \"groupby\" object are those that apply a summarization function to the row groups.  \n",
    "\n",
    "The available summarization functions are defined in module [`pyspark.sql.functions`]( https://spark.apache.org/docs/2.2.1/api/python/pyspark.sql.html#pyspark.sql.Column) (which must be imported!) and are called \"aggregate functions\" in the documentation.\n",
    "\n",
    "Functions [`count()`](https://spark.apache.org/docs/2.2.1/api/python/pyspark.sql.html#pyspark.sql.functions.count),\n",
    "[`mean()`](https://spark.apache.org/docs/2.2.1/api/python/pyspark.sql.html#pyspark.sql.functions.mean),\n",
    "[`max()`](https://spark.apache.org/docs/2.2.1/api/python/pyspark.sql.html#pyspark.sql.functions.max),\n",
    "[`min()`](https://spark.apache.org/docs/2.2.1/api/python/pyspark.sql.html#pyspark.sql.functions.min),\n",
    "[`sum()`](https://spark.apache.org/docs/2.2.1/api/python/pyspark.sql.html#pyspark.sql.functions.sum) are of course present.\n"
   ]
  },
  {
   "cell_type": "code",
   "execution_count": 28,
   "metadata": {
    "scrolled": true,
    "slideshow": {
     "slide_type": "slide"
    }
   },
   "outputs": [
    {
     "name": "stdout",
     "output_type": "stream",
     "text": [
      "+---+-------+--------+\n",
      "|age|data_id|nr_words|\n",
      "+---+-------+--------+\n",
      "| 28|  52509|      37|\n",
      "| 28|  52514|      43|\n",
      "| 24|  52548|      40|\n",
      "+---+-------+--------+\n",
      "only showing top 3 rows\n",
      "\n"
     ]
    }
   ],
   "source": [
    "from pyspark.sql import functions as F\n",
    "\n",
    "df3 = gd.agg(F.sum(df.produces.cast('integer')).alias('nr_words'))\n",
    "\n",
    "# show it\n",
    "df3.show(3)"
   ]
  },
  {
   "cell_type": "markdown",
   "metadata": {},
   "source": [
    "Note that the resulting DF has the aggregation columns *and* any column computed by `.agg()`."
   ]
  },
  {
   "cell_type": "markdown",
   "metadata": {
    "slideshow": {
     "slide_type": "skip"
    }
   },
   "source": [
    "----"
   ]
  },
  {
   "cell_type": "markdown",
   "metadata": {
    "slideshow": {
     "slide_type": "slide"
    }
   },
   "source": [
    "## Exercise 3.D\n",
    "\n",
    "Compute the total number of words uttered relative to age, for: all children, male children, female children."
   ]
  },
  {
   "cell_type": "code",
   "execution_count": 29,
   "metadata": {
    "slideshow": {
     "slide_type": "skip"
    }
   },
   "outputs": [
    {
     "name": "stdout",
     "output_type": "stream",
     "text": [
      "+---+--------+\n",
      "|age|nr_words|\n",
      "+---+--------+\n",
      "| 28|   28143|\n",
      "| 27|    5740|\n",
      "| 26|    5011|\n",
      "| 22|    4133|\n",
      "| 16|    6032|\n",
      "+---+--------+\n",
      "only showing top 5 rows\n",
      "\n"
     ]
    }
   ],
   "source": [
    "# 1. aggregate\n",
    "gd = df.groupBy('age')\n",
    "\n",
    "# 2. sum over 'produces' column\n",
    "df_ = gd.agg(F.sum(df.produces.cast('integer')).alias('nr_words'))\n",
    "\n",
    "\n",
    "# 3. show\n",
    "df_.show(5)"
   ]
  },
  {
   "cell_type": "code",
   "execution_count": 30,
   "metadata": {
    "slideshow": {
     "slide_type": "skip"
    }
   },
   "outputs": [
    {
     "name": "stdout",
     "output_type": "stream",
     "text": [
      "+---+----+--------+\n",
      "|age| sex|nr_words|\n",
      "+---+----+--------+\n",
      "| 26|Male|    1773|\n",
      "| 25|Male|    2571|\n",
      "| 24|Male|    4843|\n",
      "| 27|Male|    2032|\n",
      "| 20|Male|    1296|\n",
      "+---+----+--------+\n",
      "only showing top 5 rows\n",
      "\n"
     ]
    }
   ],
   "source": [
    "# 1. aggregate\n",
    "gd2 = df.groupBy(['age', 'sex'])\n",
    "\n",
    "# 2. sum over 'produces' column\n",
    "df_mf = gd2.agg(F.sum(df.produces.cast('integer')).alias('nr_words'))\n",
    "\n",
    "\n",
    "# 3. show\n",
    "df_mf.where(df_mf.sex == 'Male').show(5)"
   ]
  },
  {
   "cell_type": "markdown",
   "metadata": {},
   "source": [
    "## Exercise 3.E\n",
    "\n",
    "Make a bar plot of the number of words produced by age.\n",
    "\n",
    "(*Hint:* Seaborn provides an easy-to-use `.barplot` function)"
   ]
  },
  {
   "cell_type": "code",
   "execution_count": 34,
   "metadata": {
    "slideshow": {
     "slide_type": "skip"
    }
   },
   "outputs": [
    {
     "data": {
      "text/plain": [
       "<matplotlib.axes._subplots.AxesSubplot at 0x7fbeb0caa3d0>"
      ]
     },
     "execution_count": 34,
     "metadata": {},
     "output_type": "execute_result"
    },
    {
     "data": {
      "image/png": "[encoded data removed]",
      "text/plain": [
       "<Figure size 432x288 with 1 Axes>"
      ]
     },
     "metadata": {
      "needs_background": "light"
     },
     "output_type": "display_data"
    }
   ],
   "source": [
    "import seaborn as sns\n",
    "\n",
    "sns.barplot(x=\"age\", y=\"nr_words\", data=df_.toPandas(), label=\"Nr. of distinct animal names\")"
   ]
  },
  {
   "cell_type": "markdown",
   "metadata": {
    "slideshow": {
     "slide_type": "skip"
    }
   },
   "source": [
    "A lengthier solution is to pull the data out using `df_.collect()` then separate the `x` and `y` arrays for the plot:"
   ]
  },
  {
   "cell_type": "code",
   "execution_count": 33,
   "metadata": {
    "slideshow": {
     "slide_type": "skip"
    }
   },
   "outputs": [
    {
     "data": {
      "text/plain": [
       "<matplotlib.axes._subplots.AxesSubplot at 0x7fbeb0caac50>"
      ]
     },
     "execution_count": 33,
     "metadata": {},
     "output_type": "execute_result"
    },
    {
     "data": {
      "image/png": "[encoded data removed]",
      "text/plain": [
       "<Figure size 432x288 with 1 Axes>"
      ]
     },
     "metadata": {
      "needs_background": "light"
     },
     "output_type": "display_data"
    }
   ],
   "source": [
    "rows= df_.collect()\n",
    "\n",
    "xs = [row[0] for row in rows]\n",
    "ys = [row[1] for row in rows]\n",
    "\n",
    "sns.barplot(x=xs, y=ys)"
   ]
  }
 ],
 "metadata": {
  "anaconda-cloud": {},
  "kernelspec": {
   "display_name": "Python 2 with Spark",
   "language": "python",
   "name": "pyspark2"
  },
  "language_info": {
   "codemirror_mode": {
    "name": "ipython",
    "version": 2
   },
   "file_extension": ".py",
   "mimetype": "text/x-python",
   "name": "python",
   "nbconvert_exporter": "python",
   "pygments_lexer": "ipython2",
   "version": "2.7.15"
  }
 },
 "nbformat": 4,
 "nbformat_minor": 2
}
