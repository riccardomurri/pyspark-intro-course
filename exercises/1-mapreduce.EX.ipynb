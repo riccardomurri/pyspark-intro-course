{
 "cells": [
  {
   "cell_type": "markdown",
   "metadata": {},
   "source": [
    "<a rel=\"license\" href=\"http://creativecommons.org/licenses/by-sa/4.0/\"><img alt=\"Creative Commons License\" style=\"border-width:0\" src=\"https://i.creativecommons.org/l/by-sa/4.0/80x15.png\" /></a><div align=\"center\">This work is licensed under a <a rel=\"license\" href=\"http://creativecommons.org/licenses/by-sa/4.0/\">Creative Commons Attribution-ShareAlike 4.0 International License</a>.</div>\n",
    "\n",
    "----"
   ]
  },
  {
   "cell_type": "markdown",
   "metadata": {},
   "source": [
    "## Exercise 1.A\n",
    "\n",
    "Write a function `Lengths(L)` that takes a\n",
    "list `L` of strings and returns a list of the their lengths."
   ]
  },
  {
   "cell_type": "code",
   "execution_count": 1,
   "metadata": {},
   "outputs": [],
   "source": [
    "# type code here and evaluate cell"
   ]
  },
  {
   "cell_type": "markdown",
   "metadata": {},
   "source": [
    "If your solution is correct, then evaluating the cell below should give `[1, 2, 8]` as output:"
   ]
  },
  {
   "cell_type": "code",
   "execution_count": 2,
   "metadata": {},
   "outputs": [
    {
     "data": {
      "text/plain": [
       "[1, 2, 8]"
      ]
     },
     "execution_count": 2,
     "metadata": {},
     "output_type": "execute_result"
    }
   ],
   "source": [
    "Lengths(['a', 'py', 'exercise'])"
   ]
  },
  {
   "cell_type": "markdown",
   "metadata": {},
   "source": [
    "----"
   ]
  },
  {
   "cell_type": "markdown",
   "metadata": {},
   "source": [
    "## Exercise 1.B\n",
    "\n",
    "Write a function `LargerThan(L, m)` that takes a\n",
    "list `L` of strings and a single value `m`, then returns a list of\n",
    "the strings in `L` whose length is larger than `m`."
   ]
  },
  {
   "cell_type": "code",
   "execution_count": 3,
   "metadata": {},
   "outputs": [],
   "source": [
    "# type code here and evaluate cell"
   ]
  },
  {
   "cell_type": "markdown",
   "metadata": {},
   "source": [
    "If your solution is correct, then evaluating the cell below should give `['exercise']` as output:"
   ]
  },
  {
   "cell_type": "code",
   "execution_count": 4,
   "metadata": {},
   "outputs": [
    {
     "data": {
      "text/plain": [
       "['exercise']"
      ]
     },
     "execution_count": 4,
     "metadata": {},
     "output_type": "execute_result"
    }
   ],
   "source": [
    "LargerThan(['a', 'py', 'exercise'], 3)"
   ]
  },
  {
   "cell_type": "markdown",
   "metadata": {},
   "source": [
    "----"
   ]
  },
  {
   "cell_type": "markdown",
   "metadata": {},
   "source": [
    "## Exercise 1.C\n",
    "\n",
    "Write a function `Sum(L)` that takes a list `L` of\n",
    "numbers and returns the sum of all of them."
   ]
  },
  {
   "cell_type": "code",
   "execution_count": 5,
   "metadata": {},
   "outputs": [],
   "source": [
    "# type code here and evaluate cell"
   ]
  },
  {
   "cell_type": "markdown",
   "metadata": {},
   "source": [
    "If your solution is correct, then evaluating the cell below should give `6` as output:"
   ]
  },
  {
   "cell_type": "code",
   "execution_count": 6,
   "metadata": {},
   "outputs": [
    {
     "data": {
      "text/plain": [
       "6"
      ]
     },
     "execution_count": 6,
     "metadata": {},
     "output_type": "execute_result"
    }
   ],
   "source": [
    "Sum([1, 2, 3])"
   ]
  },
  {
   "cell_type": "markdown",
   "metadata": {},
   "source": [
    "----"
   ]
  },
  {
   "cell_type": "markdown",
   "metadata": {},
   "source": [
    "## Exercise 1.D\n",
    "\n",
    "Write a function `RandList(N)` that takes\n",
    "generates and returns a list of `N` random floating-point\n",
    "numbers (each ranging from `0.0` to `1.0`)."
   ]
  },
  {
   "cell_type": "code",
   "execution_count": 7,
   "metadata": {},
   "outputs": [],
   "source": [
    "# type code here and evaluate cell"
   ]
  },
  {
   "cell_type": "markdown",
   "metadata": {},
   "source": [
    "If your solution is correct, then evaluating the cell below should give each time a different list of 3 numbers:"
   ]
  },
  {
   "cell_type": "code",
   "execution_count": 8,
   "metadata": {},
   "outputs": [
    {
     "name": "stdout",
     "output_type": "stream",
     "text": [
      "[0.2466435660371583, 0.6277476605199325, 0.19231432413498106]\n"
     ]
    }
   ],
   "source": [
    "print(RandList(3))"
   ]
  },
  {
   "cell_type": "markdown",
   "metadata": {},
   "source": [
    "----"
   ]
  },
  {
   "cell_type": "markdown",
   "metadata": {},
   "source": [
    "## Exercise 1.E\n",
    "\n",
    "A rough approximation to the constant $\\pi$ can be computed (using\n",
    "a Monte Carlo method) as follows:\n",
    "\n",
    "1. Let $N>0$ be a large integer,\n",
    "2. pick $N$ points in the square $\\{(x,y) \\| 0 < x, y < 1 \\}$ uniformly at random;\n",
    "3. count the number $P$ of points that fall into the unit circle $\\{(x,y) \\| x^2 + y^2 < 1 \\}$;\n",
    "4. for large enough $N$, the ratio $P/N$ approximates the area of a quarter of the unit circle, i.e. $\\pi/4$.\n",
    "\n",
    "Write Python code that computes an approximation to $\\pi$ using the above procedure.\n",
    "\n",
    "A detailed explanation of the method can be found [here](http://mathfaculty.fullerton.edu/mathews/n2003/montecarlopimod.html)."
   ]
  },
  {
   "cell_type": "markdown",
   "metadata": {},
   "source": [
    "The solution is divided in pieces corresponding to the bullet points above; the final result comes by evaluating all cells in order."
   ]
  },
  {
   "cell_type": "markdown",
   "metadata": {},
   "source": [
    "### 1. Let $N>0$ be a large integer"
   ]
  },
  {
   "cell_type": "code",
   "execution_count": 9,
   "metadata": {},
   "outputs": [],
   "source": [
    "# type code here and evaluate cell"
   ]
  },
  {
   "cell_type": "markdown",
   "metadata": {},
   "source": [
    "### 2. pick $N$ random points in the square $[0,+1] \\times [0,+1]$"
   ]
  },
  {
   "cell_type": "code",
   "execution_count": 10,
   "metadata": {},
   "outputs": [],
   "source": [
    "# type code here and evaluate cell"
   ]
  },
  {
   "cell_type": "markdown",
   "metadata": {},
   "source": [
    "### 3. count the number $P$ of points that fall into the unit circle $\\{ (x,y): x^2+y^2 < 1 \\}$"
   ]
  },
  {
   "cell_type": "markdown",
   "metadata": {},
   "source": [
    "We can apply `filter` and keep only the points that lie withing the unit circle -- the length of the list so obtained will be $P$."
   ]
  },
  {
   "cell_type": "code",
   "execution_count": 13,
   "metadata": {},
   "outputs": [
    {
     "name": "stdout",
     "output_type": "stream",
     "text": [
      "CPU times: user 3.76 s, sys: 68 ms, total: 3.83 s\n",
      "Wall time: 3.83 s\n"
     ]
    }
   ],
   "source": [
    "# type code here and evaluate cell"
   ]
  },
  {
   "cell_type": "markdown",
   "metadata": {},
   "source": [
    "### 4. for large enough $N$, the ratio $P/N$ approximates the area of a quarter of the unit circle, i.e. $\\pi/4$"
   ]
  },
  {
   "cell_type": "code",
   "execution_count": 15,
   "metadata": {},
   "outputs": [
    {
     "name": "stdout",
     "output_type": "stream",
     "text": [
      "Pi is roughly 3.141509\n"
     ]
    }
   ],
   "source": [
    "# type code here and evaluate cell"
   ]
  }
 ],
 "metadata": {
  "kernelspec": {
   "display_name": "Python 2 with Spark",
   "language": "python",
   "name": "pyspark2"
  },
  "language_info": {
   "codemirror_mode": {
    "name": "ipython",
    "version": 2
   },
   "file_extension": ".py",
   "mimetype": "text/x-python",
   "name": "python",
   "nbconvert_exporter": "python",
   "pygments_lexer": "ipython2",
   "version": "2.7.15"
  }
 },
 "nbformat": 4,
 "nbformat_minor": 2
}
